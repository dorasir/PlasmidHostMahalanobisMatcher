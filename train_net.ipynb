{
 "cells": [
  {
   "cell_type": "code",
   "source": [
    "from MahalanobisRelativeAbundance import MahalanobisRelativeAbundance\n",
    "import numpy as np\n",
    "import pandas as pd\n",
    "import os\n",
    "import shutil\n",
    "import util\n",
    "from sklearn.neural_network import MLPClassifier\n",
    "from ete3 import NCBITaxa\n",
    "import warnings\n",
    "warnings.filterwarnings(\"ignore\")"
   ],
   "metadata": {
    "collapsed": false,
    "pycharm": {
     "name": "#%%\n"
    }
   },
   "execution_count": null,
   "outputs": []
  },
  {
   "cell_type": "code",
   "execution_count": 1,
   "outputs": [
    {
     "name": "stdout",
     "output_type": "stream",
     "text": [
      "aaa\n",
      "2 3\n"
     ]
    }
   ],
   "source": [
    "def taxid_to_lineage(taxid):\n",
    "    \"\"\"\n",
    "    Function for retrieving the taxonomic rank of given taxid\n",
    "    :param taxid:\n",
    "    :return:\n",
    "    \"\"\"\n",
    "    desired_ranks = ['phylum', 'class', 'order', 'family', 'genus', 'species']\n",
    "    ncbi = NCBITaxa()\n",
    "    lineage = ncbi.get_lineage(taxid)\n",
    "    rank_to_id = {rank: id for (id, rank) in ncbi.get_rank(lineage).items()}\n",
    "    rank_to_id = {desired_rank: (rank_to_id[desired_rank] if desired_rank in rank_to_id.keys() else None) for\n",
    "                  desired_rank in desired_ranks}\n",
    "    return rank_to_id"
   ],
   "metadata": {
    "collapsed": false,
    "pycharm": {
     "name": "#%%\n"
    }
   }
  },
  {
   "cell_type": "code",
   "execution_count": null,
   "outputs": [],
   "source": [
    "def taxonomic_accuracy(prediction, target, use_max=False):\n",
    "    desired_ranks = ['phylum', 'class', 'order', 'family', 'genus', 'species']\n",
    "    cnt = np.zeros(7)\n",
    "    for i in range(prediction.shape[0]):\n",
    "        if use_max:\n",
    "            rank_to_id_1 = taxid_to_lineage(host_to_speciesid[idx_to_host_dict[prediction[i, :].argmax()]])\n",
    "        else:\n",
    "            rank_to_id_1 = taxid_to_lineage(host_to_speciesid[idx_to_host_dict[prediction[i, :].argmin()]])\n",
    "        rank_to_id_2 = taxid_to_lineage(host_to_speciesid[idx_to_host_dict[target[i]]])\n",
    "        for j, rank in enumerate(desired_ranks):\n",
    "            if rank_to_id_1[rank] == rank_to_id_2[rank] and rank_to_id_1[rank] is not None:\n",
    "                cnt[j] += 1\n",
    "    \"\"\"Strain accuracy is handled separately\"\"\"\n",
    "    if use_max:\n",
    "        cnt[6] = np.sum(prediction.argmax(axis=1) == target)\n",
    "    else:\n",
    "        cnt[6] = np.sum(prediction.argmin(axis=1) == target)\n",
    "    acc = cnt / prediction.shape[0]\n",
    "    return acc"
   ],
   "metadata": {
    "collapsed": false,
    "pycharm": {
     "name": "#%%\n"
    }
   }
  },
  {
   "cell_type": "code",
   "execution_count": null,
   "outputs": [],
   "source": [
    "def load_metadata():\n",
    "    metadata = pd.read_csv('metadata.csv')\n",
    "    metadata = metadata.dropna()\n",
    "    metadata = metadata.reset_index(drop=True)\n",
    "\n",
    "    for i in range(len(metadata.Locus_ID)):\n",
    "        metadata.at[i, 'Locus_ID'] = metadata.at[i, 'Locus_ID'].split('.')[0]\n",
    "\n",
    "    metadata.sort_values(by=['Locus_ID'], inplace=True)\n",
    "    metadata.reset_index(drop=True, inplace=True)\n",
    "    return metadata"
   ],
   "metadata": {
    "collapsed": false,
    "pycharm": {
     "name": "#%%\n"
    }
   }
  },
  {
   "cell_type": "code",
   "execution_count": null,
   "outputs": [],
   "source": [
    "metadata = load_metadata()\n"
   ],
   "metadata": {
    "collapsed": false,
    "pycharm": {
     "name": "#%%\n"
    }
   }
  }
 ],
 "metadata": {
  "kernelspec": {
   "display_name": "Python 3",
   "language": "python",
   "name": "python3"
  },
  "language_info": {
   "codemirror_mode": {
    "name": "ipython",
    "version": 2
   },
   "file_extension": ".py",
   "mimetype": "text/x-python",
   "name": "python",
   "nbconvert_exporter": "python",
   "pygments_lexer": "ipython2",
   "version": "2.7.6"
  }
 },
 "nbformat": 4,
 "nbformat_minor": 0
}